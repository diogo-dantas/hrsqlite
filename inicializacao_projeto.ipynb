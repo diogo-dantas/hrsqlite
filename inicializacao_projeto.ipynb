{
 "cells": [
  {
   "cell_type": "markdown",
   "id": "63894f8d-f73e-4a6f-8cbd-f944b75a8009",
   "metadata": {},
   "source": [
    "# Banco de dados para prática de querys"
   ]
  },
  {
   "cell_type": "markdown",
   "id": "8fa5279f-9288-4f16-a361-7b594f27d0ed",
   "metadata": {},
   "source": [
    "Banco de dados para análises de recursos humanos e prática de consultas em SQL."
   ]
  },
  {
   "cell_type": "markdown",
   "id": "90ac5e8f-e8eb-4a41-a8dc-cb89d7b221e3",
   "metadata": {},
   "source": [
    " #### Configurações iniciais."
   ]
  },
  {
   "cell_type": "code",
   "execution_count": 1,
   "id": "f34dfd8d-0ac5-4607-a2a3-557dd5e407ea",
   "metadata": {},
   "outputs": [],
   "source": [
    "%load_ext sql"
   ]
  },
  {
   "cell_type": "code",
   "execution_count": 2,
   "id": "32b4daec-636f-44b5-8a72-6dc028dc0842",
   "metadata": {},
   "outputs": [],
   "source": [
    "# Conexão com o Banco de Dados\n",
    "%sql sqlite:///empresa.db"
   ]
  },
  {
   "cell_type": "markdown",
   "id": "6a35c056-4de8-4327-a0c9-7e192e75fddd",
   "metadata": {},
   "source": [
    "- Criação da tabela de Cargos."
   ]
  },
  {
   "cell_type": "code",
   "execution_count": 6,
   "id": "364040d3-c027-43a9-9597-6180258273f3",
   "metadata": {},
   "outputs": [
    {
     "name": "stdout",
     "output_type": "stream",
     "text": [
      " * sqlite:///empresa.db\n",
      "Done.\n"
     ]
    },
    {
     "data": {
      "text/plain": [
       "[]"
      ]
     },
     "execution_count": 6,
     "metadata": {},
     "output_type": "execute_result"
    }
   ],
   "source": [
    "%%sql\n",
    "\n",
    "CREATE TABLE IF NOT EXISTS cargos (\n",
    "    id_cargo INTEGER PRIMARY KEY AUTOINCREMENT,\n",
    "    nome_cargo VARCHAR(100) NOT NULL,\n",
    "    descricao TEXT, -- descrição mais longa, sem limite de caracteres\n",
    "    nivel_hierarquico VARCHAR(50),\n",
    "    departamento VARCHAR(100),\n",
    "    data_criacao DATE DEFAULT CURRENT_DATE -- se não for preenchido, assumirá a data atual automaticamente\n",
    ");"
   ]
  },
  {
   "cell_type": "markdown",
   "id": "5566bb1f-b413-4a7b-877e-9d1250150c1e",
   "metadata": {},
   "source": [
    "- Criação da tabela de Funcionários."
   ]
  },
  {
   "cell_type": "code",
   "execution_count": 8,
   "id": "0218b03e-1b9c-4bd6-9b9e-d1323ff2f83b",
   "metadata": {},
   "outputs": [
    {
     "name": "stdout",
     "output_type": "stream",
     "text": [
      " * sqlite:///empresa.db\n",
      "Done.\n"
     ]
    },
    {
     "data": {
      "text/plain": [
       "[]"
      ]
     },
     "execution_count": 8,
     "metadata": {},
     "output_type": "execute_result"
    }
   ],
   "source": [
    "%%sql \n",
    "\n",
    "CREATE TABLE IF NOT EXISTS funcionarios (\n",
    "    id_funcionario INTEGER PRIMARY KEY AUTOINCREMENT,\n",
    "    nome VARCHAR(100) NOT NULL,\n",
    "    sobrenome VARCHAR(100) NOT NULL,\n",
    "    data_nascimento DATE,\n",
    "    genero CHAR(1),\n",
    "    cpf VARCHAR(14) UNIQUE,\n",
    "    email VARCHAR(100) UNIQUE,\n",
    "    telefone VARCHAR(20),\n",
    "    endereco TEXT,\n",
    "    id_cargo INTEGER,\n",
    "    data_contratacao DATE NOT NULL,\n",
    "    FOREIGN KEY (id_cargo) REFERENCES cargo(id_cargo)\n",
    ");\n",
    "    "
   ]
  },
  {
   "cell_type": "markdown",
   "id": "f17ed716-ce38-4e30-a58b-f69e7148bb85",
   "metadata": {},
   "source": [
    "- Criação de tabela Salários."
   ]
  },
  {
   "cell_type": "code",
   "execution_count": 9,
   "id": "1eb26691-7aa9-4585-9e1c-7cb271dacd7b",
   "metadata": {},
   "outputs": [
    {
     "name": "stdout",
     "output_type": "stream",
     "text": [
      " * sqlite:///empresa.db\n",
      "Done.\n"
     ]
    },
    {
     "data": {
      "text/plain": [
       "[]"
      ]
     },
     "execution_count": 9,
     "metadata": {},
     "output_type": "execute_result"
    }
   ],
   "source": [
    "%%sql\n",
    "\n",
    "CREATE TABLE IF NOT EXISTS salarios (\n",
    "    id_salario INTEGER PRIMARY KEY AUTOINCREMENT,\n",
    "    id_funcionario INTEGER,\n",
    "    valor_salario DECIMAL(10,2) NOT NULL,\n",
    "    data_inicio DATE NOT NULL,\n",
    "    data_fim DATE,\n",
    "    tipo_salario VARCHAR(50) DEFAULT 'regular', -- regular, bônus, comissão, etc.\n",
    "    FOREIGN KEY (id_funcionario) REFERENCES funcionarios(id_funcionario)\n",
    ");"
   ]
  },
  {
   "cell_type": "markdown",
   "id": "bec794e3-383c-4102-8597-600ccbc06740",
   "metadata": {},
   "source": [
    "- Criação da tabela de Departamentos."
   ]
  },
  {
   "cell_type": "code",
   "execution_count": 11,
   "id": "fa9bc4a2-f1d8-4eac-a8bb-0666e25f5d07",
   "metadata": {},
   "outputs": [
    {
     "name": "stdout",
     "output_type": "stream",
     "text": [
      " * sqlite:///empresa.db\n",
      "Done.\n"
     ]
    },
    {
     "data": {
      "text/plain": [
       "[]"
      ]
     },
     "execution_count": 11,
     "metadata": {},
     "output_type": "execute_result"
    }
   ],
   "source": [
    "%%sql\n",
    "\n",
    "CREATE TABLE IF NOT EXISTS departamentos (\n",
    "    id_departamento INTEGER PRIMARY KEY AUTOINCREMENT,\n",
    "    nome_departamento VARCHAR(100) NOT NULL,\n",
    "    descricao TEXT,\n",
    "    id_gerente INTEGER\n",
    "    data_criacao DATE DEFAULT CURRENT_DATE,\n",
    "    FOREIGN KEY (id_gerente) REFERENCES funcionarios(id_funcionario)\n",
    ");\n",
    "    "
   ]
  },
  {
   "cell_type": "markdown",
   "id": "c225202b-d6e5-46b9-aadb-4d41bdcecf42",
   "metadata": {},
   "source": [
    "- Criação da tabela de Benefícios."
   ]
  },
  {
   "cell_type": "code",
   "execution_count": 17,
   "id": "d9270d87-b578-4ec1-bcbe-2ba20b8064eb",
   "metadata": {},
   "outputs": [
    {
     "name": "stdout",
     "output_type": "stream",
     "text": [
      " * sqlite:///empresa.db\n",
      "Done.\n",
      "Done.\n"
     ]
    },
    {
     "data": {
      "text/plain": [
       "[]"
      ]
     },
     "execution_count": 17,
     "metadata": {},
     "output_type": "execute_result"
    }
   ],
   "source": [
    "%%sql\n",
    "\n",
    "CREATE TABLE IF NOT EXISTS beneficios (\n",
    "    id_beneficio INTEGER PRIMARY KEY AUTOINCREMENT,\n",
    "    nome_beneficio VARCHAR(100) NOT NULL,\n",
    "    descricao TEXT,\n",
    "    valor DECIMAL(10,2),\n",
    "    tipo VARCHAR(50)\n",
    ");\n",
    "\n",
    "-- tabela associativa entre funcionários e benefícios\n",
    "\n",
    "/* \n",
    "   Bancos de dados relacionais não suportam diretamente relacionamentos muitos-para-muitos.\n",
    "   Então, para modelar esse tipo de relação, há a quebra o relacionamento N:N em dois relacionamentos 1:N\n",
    "   usando uma tabela intermediária. Assim garantimos que o relacionamento seja normalizado e consistente.\n",
    "*/\n",
    "\n",
    "CREATE TABLE IF NOT EXISTS funcionario_beneficio (\n",
    "    id_funcionario INTEGER,\n",
    "    id_beneficio INTEGER,\n",
    "    data_inicio DATE NOT NULL,\n",
    "    data_fim DATE,\n",
    "    PRIMARY KEY (id_funcionario, id_beneficio, data_inicio),\n",
    "    -- a chave primária composta permite múltiplas entradas para o mesmo funcionário e benefício em períodos diferentes.\n",
    "    FOREIGN KEY (id_funcionario) REFERENCES funcionarios(id_funcionario),\n",
    "    FOREIGN KEY (id_beneficio) REFERENCES beneficios(id_beneficio)\n",
    ");"
   ]
  },
  {
   "cell_type": "markdown",
   "id": "b3df7136-3c7f-45b8-bf5d-c7f7bed79778",
   "metadata": {},
   "source": [
    "- Criação da tabela de Avaliação de Desempenho."
   ]
  },
  {
   "cell_type": "code",
   "execution_count": 18,
   "id": "1cd5683f-c670-42f8-aa36-535237fa928d",
   "metadata": {},
   "outputs": [
    {
     "name": "stdout",
     "output_type": "stream",
     "text": [
      " * sqlite:///empresa.db\n",
      "Done.\n"
     ]
    },
    {
     "data": {
      "text/plain": [
       "[]"
      ]
     },
     "execution_count": 18,
     "metadata": {},
     "output_type": "execute_result"
    }
   ],
   "source": [
    "%%sql\n",
    "\n",
    "CREATE TABLE IF NOT EXISTS avaliacoes (\n",
    "    id_avaliacao INTEGER PRIMARY KEY AUTOINCREMENT,\n",
    "    id_funcionario INTEGER,\n",
    "    id_avaliador INTEGER, \n",
    "    data_avaliacao DATE NOT NULL,\n",
    "    pontuacao DECIMAL(3,1),\n",
    "    comentarios TEXT,\n",
    "    FOREIGN KEY (id_funcionario) REFERENCES funcionarios(id_funcionario),\n",
    "    FOREIGN KEY (id_avaliador) REFERENCES funcionarios(id_funcionario)\n",
    ");\n"
   ]
  },
  {
   "cell_type": "markdown",
   "id": "9e39c464-3524-43d9-9db0-459ebbf18b0a",
   "metadata": {},
   "source": [
    "- Criação da tabela Histórico de Cargos."
   ]
  },
  {
   "cell_type": "code",
   "execution_count": 19,
   "id": "baa85950-1848-4255-8fc2-80758f09df64",
   "metadata": {},
   "outputs": [
    {
     "name": "stdout",
     "output_type": "stream",
     "text": [
      " * sqlite:///empresa.db\n",
      "Done.\n"
     ]
    },
    {
     "data": {
      "text/plain": [
       "[]"
      ]
     },
     "execution_count": 19,
     "metadata": {},
     "output_type": "execute_result"
    }
   ],
   "source": [
    "%%sql \n",
    "\n",
    "CREATE TABLE IF NOT EXISTS historico_cargos (\n",
    "    id_historico INTEGER PRIMARY KEY AUTOINCREMENT,\n",
    "    id_funcionario INTEGER,\n",
    "    id_cargo_anterior INTEGER,\n",
    "    id_cargo_novo INTEGER, \n",
    "    data_mudanca DATE NOT NULL,\n",
    "    motivo VARCHAR(200),\n",
    "    FOREIGN KEY (id_funcionario) REFERENCES funcionarios(id_funcionario),\n",
    "    FOREIGN KEY (id_cargo_anterior) REFERENCES cargos(id_cargo),\n",
    "    FOREIGN KEY (id_cargo_novo) REFERENCES cargos(id_cargo)\n",
    ");"
   ]
  },
  {
   "cell_type": "code",
   "execution_count": null,
   "id": "494a295d-8c9b-4fa6-adb4-fe2e3f010fea",
   "metadata": {},
   "outputs": [],
   "source": []
  }
 ],
 "metadata": {
  "kernelspec": {
   "display_name": "Python 3 (ipykernel)",
   "language": "python",
   "name": "python3"
  },
  "language_info": {
   "codemirror_mode": {
    "name": "ipython",
    "version": 3
   },
   "file_extension": ".py",
   "mimetype": "text/x-python",
   "name": "python",
   "nbconvert_exporter": "python",
   "pygments_lexer": "ipython3",
   "version": "3.13.2"
  }
 },
 "nbformat": 4,
 "nbformat_minor": 5
}
